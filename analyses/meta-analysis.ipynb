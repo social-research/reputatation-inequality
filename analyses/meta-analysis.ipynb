{
 "cells": [
  {
   "cell_type": "markdown",
   "metadata": {},
   "source": [
    "## Meta-analysis of inequality results\n",
    "\n",
    "M. Tsvetkova, **The effects of reputation on inequality in network cooperation games**, *Phil. Trans. B* (2021).\n"
   ]
  },
  {
   "cell_type": "code",
   "execution_count": 1,
   "metadata": {},
   "outputs": [],
   "source": [
    "from scipy.stats import binom_test\n"
   ]
  },
  {
   "cell_type": "code",
   "execution_count": 2,
   "metadata": {},
   "outputs": [
    {
     "name": "stdout",
     "output_type": "stream",
     "text": [
      "Randomly rewiring: 0.10937500000000001\n",
      "Strategic updating: 0.5\n"
     ]
    }
   ],
   "source": [
    "# Results reported in paper\n",
    "\n",
    "print('Randomly rewiring:', binom_test(5, 6)/2)\n",
    "print('Strategic updating:', binom_test(10, 21)/2)"
   ]
  },
  {
   "cell_type": "code",
   "execution_count": 3,
   "metadata": {},
   "outputs": [
    {
     "name": "stdout",
     "output_type": "stream",
     "text": [
      "Randomly rewiring: 0.015625\n",
      "Strategic updating: 0.5\n"
     ]
    }
   ],
   "source": [
    "# Results if one additional result is positive rather than negative\n",
    "\n",
    "print('Randomly rewiring:', binom_test(6, 6)/2)\n",
    "print('Strategic updating:', binom_test(11, 21)/2)"
   ]
  },
  {
   "cell_type": "code",
   "execution_count": 4,
   "metadata": {},
   "outputs": [
    {
     "name": "stdout",
     "output_type": "stream",
     "text": [
      "Randomly rewiring: 0.0625\n",
      "Strategic updating: 0.4159059524536125\n"
     ]
    }
   ],
   "source": [
    "# Results if one additional study with a positive result\n",
    "\n",
    "print('Randomly rewiring:', binom_test(6, 7)/2)\n",
    "print('Strategic updating:', binom_test(12, 22)/2)"
   ]
  }
 ],
 "metadata": {
  "anaconda-cloud": {},
  "kernelspec": {
   "display_name": "Python 3",
   "language": "python",
   "name": "python3"
  },
  "language_info": {
   "codemirror_mode": {
    "name": "ipython",
    "version": 3
   },
   "file_extension": ".py",
   "mimetype": "text/x-python",
   "name": "python",
   "nbconvert_exporter": "python",
   "pygments_lexer": "ipython3",
   "version": "3.7.4"
  }
 },
 "nbformat": 4,
 "nbformat_minor": 1
}
