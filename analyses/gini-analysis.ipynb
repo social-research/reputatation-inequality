{
 "cells": [
  {
   "cell_type": "markdown",
   "metadata": {},
   "source": [
    "## Plots for inequality analysis\n",
    "\n",
    "M. Tsvetkova, **The effects of reputation on inequality in network cooperation games**, *Phil. Trans. B* (2021).\n",
    "\n"
   ]
  },
  {
   "cell_type": "code",
   "execution_count": 1,
   "metadata": {},
   "outputs": [],
   "source": [
    "import pandas as pd\n",
    "import numpy as np\n",
    "import matplotlib.pyplot as plt\n",
    "import matplotlib as mpl\n",
    "import matplotlib.patches as mpatches\n",
    "import seaborn as sb\n",
    "\n",
    "import os\n",
    "import sys\n",
    "\n",
    "module_path = os.path.abspath(os.path.join('../modules/'))\n",
    "if module_path not in sys.path:\n",
    "    sys.path.append(module_path)\n",
    "    \n",
    "from ineq import *\n",
    "from plot import *\n",
    "from concentration_library import gini\n",
    "\n",
    "from scipy.stats import binom_test, pearsonr\n"
   ]
  },
  {
   "cell_type": "markdown",
   "metadata": {},
   "source": [
    "### 1. Define data function"
   ]
  },
  {
   "cell_type": "code",
   "execution_count": 2,
   "metadata": {},
   "outputs": [],
   "source": [
    "def get_data(dirname, tmnts, version=None):   \n",
    "    \n",
    "    df = pd.read_csv(os.path.join('../data/', dirname+'_data.csv'))\n",
    "    \n",
    "    # Treat treatments as categorical data\n",
    "    df['reputation'] = df['reputation'].astype('category')\n",
    "    if version != None:\n",
    "        df['version'] = df['version'].astype('category')\n",
    "        df = df[(df['version']==version)]\n",
    "    maxround = df.groupby(['reputation', 'group']).round.max()\n",
    "    groups = df.groupby('reputation').group.unique()\n",
    "    \n",
    "    # Print unique number of groups and unique number of participants\n",
    "    print(dirname, df.group.unique().shape[0], df.player.unique().shape[0])\n",
    "    \n",
    "    gin = {i:[] for i in tmnts}\n",
    "    coo = {i:[] for i in tmnts}\n",
    "    cor = {i:[] for i in tmnts}\n",
    "    for t in tmnts:\n",
    "        for g in groups.loc[t]:\n",
    "            subdf = df[(df.reputation==t) & (df.group==g) & (df['round']==maxround.loc[t, g])]\n",
    "            if subdf.empty==False:\n",
    "                gin[t].append( gini(subdf['wealth'].values) )\n",
    "                pr = pearsonr(subdf['avg_action'].values, subdf['wealth'].values)[0]\n",
    "                if ~np.isnan(pr):\n",
    "                    cor[t].append(pr)\n",
    "            subdf2 = df[(df.reputation==t) & (df.group==g)]\n",
    "            if subdf2.empty==False:\n",
    "                coo[t].append(np.nanmean(subdf2['action'].values)) \n",
    "    \n",
    "    return [gin[i] for i in tmnts], [coo[i] for i in tmnts], [cor[i] for i in tmnts]\n"
   ]
  },
  {
   "cell_type": "markdown",
   "metadata": {},
   "source": [
    "### 2. Define plotting functions"
   ]
  },
  {
   "cell_type": "code",
   "execution_count": 3,
   "metadata": {},
   "outputs": [],
   "source": [
    "def custom_text(ax, data, x, y):\n",
    "    if y=='Payo':\n",
    "        ycoord = -1.24\n",
    "    else:\n",
    "        ycoord = -0.06\n",
    "    tests = []\n",
    "    for i in data:\n",
    "        tests.extend(mu_test(i, reverse=False))\n",
    "    for i in range(len(tests)):\n",
    "        ax.text(x[i], ycoord, get_text_for_test(tests[i], precision=1, preceding0=False), fontsize=6, horizontalalignment='center')\n",
    "\n",
    "        \n",
    "def custom_axlim(ax, xlim, ylim, ylabel=None):\n",
    "    if ylim=='Gini':\n",
    "        ax.set_yticks([0, 0.1, 0.2, 0.3])\n",
    "        ax.set_ylim(-0.07, 0.38)\n",
    "    elif ylim=='Payo':\n",
    "        ax.set_ylim(-1.3, 1.1)\n",
    "        ax.plot([xlim[0], xlim[1]], [0, 0], 'k--', lw=0.1, dashes=[30,10])\n",
    "    else:\n",
    "        ax.set_ylim(-0.1, 1.1)\n",
    "    ax.set_xlim(xlim[0], xlim[1])\n",
    "    if ylabel!=None: \n",
    "        ax.set_ylabel(ylabel, fontsize=6)\n",
    "\n",
    "        \n",
    "def get_legend_handles():\n",
    "    rep0 = mpatches.Patch(color='1', label='reputation = 0', ec='k', lw=0.25)\n",
    "    rep1 = mpatches.Patch(color='lightcoral', label='reputation = 1', ec='k', lw=0.25)\n",
    "    rep3 = mpatches.Patch(color='red', label='reputation = 3', ec='k', lw=0.25)\n",
    "    rep5 = mpatches.Patch(color='crimson', label='reputation = 5', ec='k', lw=0.25)\n",
    "    rep6 = mpatches.Patch(color='darkred', label='reputation = 6', ec='k', lw=0.25)\n",
    "    rep100 = mpatches.Patch(color='mediumvioletred', label='reputation = all', ec='k', lw=0.25)\n",
    "    rep11 = mpatches.Patch(color='brown', label='reputation = 1+1', ec='k', lw=0.25)\n",
    "    repavg = mpatches.Patch(color='darkviolet', label='reputation = avg', ec='k', lw=0.25)\n",
    "    rep50 = mpatches.Patch(color='hotpink', label='reputation = part avg', ec='k', lw=0.25)\n",
    "    repavg4 = mpatches.Patch(color='deeppink', label='reputation = last avg', ec='k', lw=0.25)\n",
    "    replocavg = mpatches.Patch(color='orchid', label='reputation = local avg', ec='k', lw=0.25)\n",
    "    return [rep0, rep1, rep3, rep5, rep6, rep100, rep11, repavg, rep50, repavg4, replocavg]\n",
    "\n",
    "\n",
    "def plot_rep_boxplots(rand, dyn, ylabel, fname):\n",
    "    \n",
    "    init_plot()\n",
    "    f = plt.figure(figsize=(6.5, 3.6))\n",
    "    ax11 = plt.subplot2grid((2, 10), (0, 0), colspan=6)\n",
    "    ax15 = plt.subplot2grid((2, 10), (0, 7), colspan=2)\n",
    "    ax2  = plt.subplot2grid((2, 10), (1, 0), colspan=10)\n",
    "\n",
    "    ### RANDOM REWIRING ###\n",
    "    xlabels = ['BOLT04', 'BOLT05a', 'BOLT05b', 'SEIN06', 'STAH13', 'BAYE16a']\n",
    "    xticks = [1, 2, 3, 4, 5, 6]\n",
    "    positions = [0.9, 1.1, \n",
    "                 1.8, 2, 2.2, 2.8, 3, 3.2,\n",
    "                 3.9, 4.1, 4.9, 5.1, 5.9, 6.1]\n",
    "    colors = ['1', 'mediumvioletred', \n",
    "            '1', 'lightcoral', 'brown', '1', 'lightcoral', 'brown',\n",
    "             '1', 'darkred', '1', 'lightcoral', '1', 'deeppink']\n",
    "\n",
    "    y = [j for i in rand for j in i] \n",
    "    custom_boxplot(ax11, y, positions, colors) \n",
    "    \n",
    "    # Create legend\n",
    "    #ax11.legend(handles=get_legend_handles(), ncol=1, bbox_to_anchor=[1.2,0.95])\n",
    "\n",
    "    # Add x-tick labels\n",
    "    plt.setp(ax11, xticks=xticks, xticklabels=xlabels)\n",
    "    custom_axlim(ax11, xlim=(0.6, 6.4), ylim=ylabel[:4], ylabel=ylabel)\n",
    "    # Add test results\n",
    "    x = [1, 1.85, 2.15, 2.85, 3.15, 4, 5, 6]\n",
    "    custom_text(ax11, rand, x, y=ylabel[:4])\n",
    "    # Add title\n",
    "    ax11.set_title('A) Random rewiring')\n",
    "    \n",
    "\n",
    "    \n",
    "    # LEGEND\n",
    "    ax15.legend(handles=get_legend_handles(), ncol=1) #, bbox_to_anchor=[0.4, 1]\n",
    "    ax15.axis('off')\n",
    "\n",
    "    \n",
    "    ### STRATEGIC UPDATING ###\n",
    "    xlabels = ['CUES15', 'BAYE16b', 'BAYE16c',\n",
    "               'KAME17a', 'KAME17b',\n",
    "               'HARR18a', 'HARR18b',\n",
    "               'MELA18a', 'MELA18b', \n",
    "               'MELA18c', 'MELA18d', \n",
    "               'MELA18e', 'MELA18f']\n",
    "    xticks = list(range(1, 14))\n",
    "    positions = [0.7, 0.9, 1.1, 1.3, 1.9, 2.1, 2.9, 3.1,\n",
    "                 3.8, 4, 4.2, 4.8, 5, 5.2,\n",
    "                 5.9, 6.1, 6.9, 7.1, \n",
    "                 7.8, 8, 8.2, 8.8, 9, 97.2,\n",
    "                 9.8, 10, 10.2, 10.8, 11, 11.2,\n",
    "                 11.8, 12, 12.2, 12.8, 13, 13.2]\n",
    "    colors = ['1', 'lightcoral', 'red', 'crimson',\n",
    "              '1', 'deeppink', '1', 'deeppink', \n",
    "              '1', 'hotpink', 'darkviolet', '1', 'hotpink', 'darkviolet',\n",
    "              '1', 'darkviolet', '1', 'darkviolet', \n",
    "              '1', 'orchid', 'darkviolet', '1', 'orchid', 'darkviolet',\n",
    "              '1', 'orchid', 'darkviolet', '1', 'orchid', 'darkviolet',\n",
    "              '1', 'orchid', 'darkviolet', '1', 'orchid', 'darkviolet']\n",
    "\n",
    "    y = [j for i in dyn for j in i]\n",
    "    custom_boxplot(ax2, y, positions, colors) \n",
    "\n",
    "    # Add x-tick labels\n",
    "    plt.setp(ax2, xticks=xticks, xticklabels=xlabels)\n",
    "    custom_axlim(ax2, xlim=(0.3, 13.5), ylim=ylabel[:4], ylabel=ylabel)\n",
    "    # Add test results\n",
    "    x = [0.6, 1, 1.4, 2, 3,\n",
    "         3.8, 4.2, 4.8, 5.2,\n",
    "         6, 7, \n",
    "         7.8, 8.2, 8.8, 9.2,\n",
    "         9.8, 10.2, 10.8, 11.2,\n",
    "         11.8, 12.2, 12.8, 13.2]\n",
    "    custom_text(ax2, dyn, x, y=ylabel[:4])\n",
    "    # Add title\n",
    "    ax2.set_title('B) Strategic updating')\n",
    "\n",
    "    plt.tight_layout(pad=1, w_pad=0, h_pad=2)\n",
    "    plt.show()\n",
    "    f.savefig('../plots/'+fname+'.pdf', format='pdf', bbox_inches='tight')\n",
    "    "
   ]
  },
  {
   "cell_type": "markdown",
   "metadata": {},
   "source": [
    "### 3. Plot"
   ]
  },
  {
   "cell_type": "code",
   "execution_count": 4,
   "metadata": {
    "scrolled": false
   },
   "outputs": [
    {
     "name": "stdout",
     "output_type": "stream",
     "text": [
      "bolton04 6 16\n",
      "bolton05 6 16\n",
      "bolton05 6 16\n",
      "seinen 8 28\n",
      "stahl 4 24\n",
      "bayer 4 20\n",
      "cuesta 11 243\n",
      "bayer 4 20\n",
      "bayer 4 20\n",
      "kamei 12 120\n",
      "kamei 13 130\n",
      "harrell 20 330\n",
      "harrell 20 328\n",
      "melamed 15 365\n"
     ]
    },
    {
     "name": "stderr",
     "output_type": "stream",
     "text": [
      "/Users/tsvetkom/anaconda3/lib/python3.7/site-packages/scipy/stats/stats.py:3399: PearsonRConstantInputWarning: An input array is constant; the correlation coefficent is not defined.\n",
      "  warnings.warn(PearsonRConstantInputWarning())\n"
     ]
    },
    {
     "name": "stdout",
     "output_type": "stream",
     "text": [
      "melamed 15 393\n",
      "melamed 15 363\n",
      "melamed 15 384\n",
      "melamed2 16 361\n",
      "melamed2 14 335\n"
     ]
    }
   ],
   "source": [
    "# First get data\n",
    "T = ['reputation = 0', 'reputation = 1']\n",
    "T_B4 = ['reputation = 0', 'reputation = 100%']\n",
    "T_B5 = ['reputation = 0', 'reputation = 1', 'reputation = 1+1']\n",
    "T_B16 = ['reputation = 0', 'reputation = avg4']\n",
    "T_C = ['reputation = 0', 'reputation = 1', 'reputation = 3', 'reputation = 5']\n",
    "T_K = ['reputation = 0', 'reputation = 50%', 'reputation = 100%']\n",
    "T_S = ['reputation = 0', 'reputation = 6']\n",
    "T_H = ['reputation = 0', 'reputation = 100%']\n",
    "T_M = ['reputation = 0', 'reputation = local', 'reputation = global']\n",
    "\n",
    "# RANDOM REWIRING\n",
    "bolt04, cbolt04, crbolt04 = get_data('bolton04', T_B4)\n",
    "bolt05_a, cbolt05_a, crbolt05_a = get_data('bolton05', T_B5, version='low cost')\n",
    "bolt05_b, cbolt05_b, crbolt05_b = get_data('bolton05', T_B5, version='high cost')\n",
    "sein, csein, crsein = get_data('seinen', T_S)\n",
    "stah, cstah, crstah = get_data('stahl', T)\n",
    "baye16_a, cbaye16_a, crbaye16_a = get_data('bayer', T_B16, version='random')\n",
    "g_rand = [bolt04, bolt05_a, bolt05_b, sein, stah, baye16_a]\n",
    "c_rand = [cbolt04, cbolt05_a, cbolt05_b, csein, cstah, cbaye16_a]\n",
    "cr_rand = [crbolt04, crbolt05_a, crbolt05_b, crsein, crstah, crbaye16_a]\n",
    "    \n",
    "# STRATEGIC UPDATING\n",
    "cues, ccues, crcues = get_data('cuesta', T_C)\n",
    "baye16_b, cbaye16_b, crbaye16_b = get_data('bayer', T_B16, version='disincentivized strategic')\n",
    "baye16_c, cbaye16_c, crbaye16_c = get_data('bayer', T_B16, version='incentivized strategic')\n",
    "kame_a, ckame_a, crkame_a = get_data('kamei', T_K, version='low gain')\n",
    "kame_b, ckame_b, crkame_b = get_data('kamei', T_K, version='high gain')\n",
    "harr_a, charr_a, crharr_a = get_data('harrell', T_H, version='mixed')\n",
    "harr_b, charr_b, crharr_b = get_data('harrell', T_H, version='dynamic')\n",
    "mela_a, cmela_a, crmela_a = get_data('melamed', T_M, version='non-targeted, random')\n",
    "mela_b, cmela_b, crmela_b = get_data('melamed', T_M, version='non-targeted, clustered')\n",
    "mela_c, cmela_c, crmela_c = get_data('melamed', T_M, version='targeted, random')\n",
    "mela_d, cmela_d, crmela_d = get_data('melamed', T_M, version='targeted, clustered')\n",
    "mela_e, cmela_e, crmela_e = get_data('melamed2', T_M, version='non-targeted, random')\n",
    "mela_f, cmela_f, crmela_f = get_data('melamed2', T_M, version='targeted, random')\n",
    "g_dyn = [cues, baye16_b, baye16_c, kame_a, kame_b, harr_a, harr_b, mela_a, mela_b, mela_c, mela_d, mela_e, mela_f]\n",
    "c_dyn = [ccues, cbaye16_b, cbaye16_c, ckame_a, ckame_b, charr_a, charr_b, cmela_a, cmela_b, cmela_c, cmela_d, cmela_e, cmela_f]\n",
    "cr_dyn = [crcues, crbaye16_b, crbaye16_c, crkame_a, crkame_b, crharr_a, crharr_b, crmela_a, crmela_b, crmela_c, crmela_d, crmela_e, crmela_f]\n"
   ]
  },
  {
   "cell_type": "code",
   "execution_count": 5,
   "metadata": {
    "scrolled": false
   },
   "outputs": [
    {
     "name": "stdout",
     "output_type": "stream",
     "text": [
      "GINI COEFFICIENT\n",
      "-------------\n"
     ]
    },
    {
     "data": {
      "image/png": "[encoded data removed]",
      "text/plain": [
       "<Figure size 468x259.2 with 3 Axes>"
      ]
     },
     "metadata": {},
     "output_type": "display_data"
    },
    {
     "name": "stdout",
     "output_type": "stream",
     "text": [
      "Randomly rewiring (1-sided): 0.03515625\n",
      "Strategic updating (2-sided): 0.6776394844055175\n",
      "Strategic updating (2-sided), without MELAa-d: 0.9999999999999997\n"
     ]
    }
   ],
   "source": [
    "print('GINI COEFFICIENT\\n-------------')\n",
    "\n",
    "# Plot inequality with Gini coefficient\n",
    "plot_rep_boxplots(g_rand, g_dyn, \"Gini coefficient\", 'fig_3')\n",
    "\n",
    "# Meta-analysis results\n",
    "print('Randomly rewiring (1-sided):', binom_test(7, 8)/2)\n",
    "print('Strategic updating (2-sided):', binom_test(10, 23))\n",
    "print('Strategic updating (2-sided), without MELAa-d:', binom_test(8, 15))"
   ]
  },
  {
   "cell_type": "code",
   "execution_count": 6,
   "metadata": {
    "scrolled": false
   },
   "outputs": [
    {
     "name": "stdout",
     "output_type": "stream",
     "text": [
      "\n",
      "CORRESPONDENCE\n",
      "-------------\n"
     ]
    },
    {
     "data": {
      "image/png": "[encoded data removed]",
      "text/plain": [
       "<Figure size 468x259.2 with 3 Axes>"
      ]
     },
     "metadata": {},
     "output_type": "display_data"
    },
    {
     "name": "stdout",
     "output_type": "stream",
     "text": [
      "Randomly rewiring (1-sided): 0.14453124999999994\n",
      "Strategic updating (1-sided): 0.33881974220275873\n",
      "Strategic updating (1-sided), without MELAa-d: 0.017578125000000007\n"
     ]
    }
   ],
   "source": [
    "print('\\nCORRESPONDENCE\\n-------------')\n",
    "\n",
    "# Plot inequality with correlation between payoffs and cooperativeness\n",
    "plot_rep_boxplots(cr_rand, cr_dyn, \"Payoff-cooperation correlation\", 'fig_4')\n",
    "\n",
    "print('Randomly rewiring (1-sided):', binom_test(6, 8)/2)\n",
    "print('Strategic updating (1-sided):', binom_test(13, 23)/2)\n",
    "print('Strategic updating (1-sided), without MELAa-d:', binom_test(12, 15)/2)"
   ]
  },
  {
   "cell_type": "code",
   "execution_count": 8,
   "metadata": {},
   "outputs": [
    {
     "name": "stdout",
     "output_type": "stream",
     "text": [
      "\n",
      "COOPERATION LEVEL\n",
      "-------------\n"
     ]
    },
    {
     "data": {
      "image/png": "[encoded data removed]",
      "text/plain": [
       "<Figure size 468x259.2 with 3 Axes>"
      ]
     },
     "metadata": {},
     "output_type": "display_data"
    },
    {
     "name": "stdout",
     "output_type": "stream",
     "text": [
      "[[0.23370901960784315, 0.48278595055413465, 0.5827986633249792, 0.5903791701475912], [0.6979363425925926, 0.7824884259259259], [0.5119583333333333, 0.7023072916666666], [0.16643750000000002, 0.3568125, 0.38493749999999993], [0.4589375, 0.6617000000000001, 0.7379375], [0.810085333382264, 0.8581575197598659], [0.8426107160294972, 0.8998495670510553], [0.9695213724987232, 0.9834564325361324, 0.9828145025151521], [0.9825472677108685, 0.9775031455609924, 0.9680355496852844], [0.9593260917224724, 0.9702336594921224, 0.9786507334600086], [0.9753021558891483, 0.9725743486502394, 0.968396419015566], [0.857736258545585, 0.8608149104386058, 0.9082568225858783], [0.8855005763234898, 0.8767036471457867, 0.8961931680028922]]\n",
      "Randomly rewiring (1-sided): 0.03515625\n",
      "Strategic updating (1-sided): 0.0053110122680664\n",
      "Strategic updating (1-sided), without MELAa-d: 0.0004882812499999999\n"
     ]
    }
   ],
   "source": [
    "print('\\nCOOPERATION LEVEL\\n-------------')\n",
    "\n",
    "# Plot average cooperation level per group\n",
    "plot_rep_boxplots(c_rand, c_dyn, \"Average cooperation\", 'fig_s2')\n",
    "print([[np.mean(i) for i in j] for j in c_dyn])\n",
    "\n",
    "print('Randomly rewiring (1-sided):', binom_test(7, 8)/2)\n",
    "print('Strategic updating (1-sided):', binom_test(18, 23)/2)\n",
    "print('Strategic updating (1-sided), without MELAa-d:', binom_test(14, 15)/2)"
   ]
  }
 ],
 "metadata": {
  "anaconda-cloud": {},
  "kernelspec": {
   "display_name": "Python 3",
   "language": "python",
   "name": "python3"
  },
  "language_info": {
   "codemirror_mode": {
    "name": "ipython",
    "version": 3
   },
   "file_extension": ".py",
   "mimetype": "text/x-python",
   "name": "python",
   "nbconvert_exporter": "python",
   "pygments_lexer": "ipython3",
   "version": "3.7.3"
  }
 },
 "nbformat": 4,
 "nbformat_minor": 1
}
